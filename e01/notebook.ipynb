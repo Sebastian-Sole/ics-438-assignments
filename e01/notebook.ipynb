{
 "cells": [
  {
   "cell_type": "markdown",
   "metadata": {},
   "source": [
    "# Step 1: Define the data source"
   ]
  },
  {
   "cell_type": "code",
   "execution_count": 3,
   "metadata": {},
   "outputs": [
    {
     "name": "stdout",
     "output_type": "stream",
     "text": [
      "Hello\n"
     ]
    }
   ],
   "source": [
    "# Script that simulates reading data (e.g. file contains 4 columns, driver_id, lat, long, and timestamp)\n",
    "\n",
    "fleet_size = 1000\n",
    "trips_per_driver = 50\n",
    "trip_duration_minutes = 30\n",
    "seconds_per_minute = 60\n",
    "\n",
    "print(\"Data points collected: \" + str(fleet_size * trips_per_driver * trip_duration_minutes * seconds_per_minute))\n"
   ]
  },
  {
   "cell_type": "markdown",
   "metadata": {},
   "source": [
    "# Step 2: Prototype Reading the Data"
   ]
  },
  {
   "cell_type": "code",
   "execution_count": 23,
   "metadata": {},
   "outputs": [
    {
     "name": "stdout",
     "output_type": "stream",
     "text": [
      "Time taken to read data:  0.0008199214935302734\n",
      "Estimated taken to read all data (in seconds):  1475.8586883544922\n"
     ]
    }
   ],
   "source": [
    "\n",
    "\n",
    "import time\n",
    "\n",
    "def read_data():\n",
    "    with open(\"data.txt\") as f:\n",
    "        for line in f: \n",
    "            f.readline()\n",
    "\n",
    "start_time = time.time()\n",
    "read_data()\n",
    "end_time = time.time()\n",
    "print(\"Time taken to read data: \", end_time - start_time)\n",
    "\n",
    "print(\"Estimated taken to read all data (in seconds): \", (end_time - start_time) * 9000000 / 5)\n"
   ]
  },
  {
   "cell_type": "markdown",
   "metadata": {},
   "source": [
    "# Step 3: Estimate Processing Time"
   ]
  },
  {
   "cell_type": "code",
   "execution_count": 41,
   "metadata": {},
   "outputs": [
    {
     "name": "stdout",
     "output_type": "stream",
     "text": [
      "Time taken to calculate trips less than k miles:  0.000759124755859375\n",
      "Estimated time taken to calculate trips less than k miles:  1366.424560546875\n"
     ]
    }
   ],
   "source": [
    "# Calculate the number of trips less than k miles from a given location\n",
    "\n",
    "import json\n",
    "\n",
    "\n",
    "def calculate_trips_less_than_k_miles(k, lat, long):\n",
    "    count = 0\n",
    "    with open(\"data.txt\") as f:\n",
    "        data = json.load(f)\n",
    "        for entry in data:\n",
    "            latitude = entry[1]\n",
    "            longitude = entry[2]\n",
    "            distance = ((latitude - lat) ** 2 + (longitude - long) ** 2) ** 0.5\n",
    "            if distance <= k:\n",
    "                count += 1\n",
    "    return count\n",
    "\n",
    "\n",
    "start_time = time.time()\n",
    "calculate_trips_less_than_k_miles(50, 37.7749, 122.4194)\n",
    "end_time = time.time()\n",
    "\n",
    "print(\"Time taken to calculate trips less than k miles: \", end_time - start_time)\n",
    "print(\"Estimated time taken to calculate trips less than k miles: \", (end_time - start_time) * 9000000 / 5)"
   ]
  },
  {
   "cell_type": "markdown",
   "metadata": {},
   "source": [
    "# Step 4: Reflect and Discuss"
   ]
  },
  {
   "cell_type": "markdown",
   "metadata": {},
   "source": [
    "How does the scale of the data impact the time required for reading and processing?\n",
    "\n",
    "- \n",
    "\n",
    "\n",
    "What strategies could you use to handle such large datasets more efficiently?\n",
    "\n",
    "-\n",
    "\n",
    "\n",
    "How could this type of data be useful in real-world applications?\n",
    "\n",
    "-"
   ]
  }
 ],
 "metadata": {
  "kernelspec": {
   "display_name": "Python 3",
   "language": "python",
   "name": "python3"
  },
  "language_info": {
   "codemirror_mode": {
    "name": "ipython",
    "version": 3
   },
   "file_extension": ".py",
   "mimetype": "text/x-python",
   "name": "python",
   "nbconvert_exporter": "python",
   "pygments_lexer": "ipython3",
   "version": "3.11.9"
  }
 },
 "nbformat": 4,
 "nbformat_minor": 2
}
