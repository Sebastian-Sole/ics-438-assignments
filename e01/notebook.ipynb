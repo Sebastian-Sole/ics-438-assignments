{
 "cells": [
  {
   "cell_type": "markdown",
   "metadata": {},
   "source": [
    "# Step 1: Define the data source"
   ]
  },
  {
   "cell_type": "code",
   "execution_count": 35,
   "metadata": {},
   "outputs": [
    {
     "name": "stdout",
     "output_type": "stream",
     "text": [
      "Data points collected: 2520000000\n"
     ]
    }
   ],
   "source": [
    "fleet_size = 1000\n",
    "trips_per_driver = 50\n",
    "trip_duration_minutes = 30\n",
    "seconds_per_minute = 60\n",
    "days_in_week = 7\n",
    "data_points = 4\n",
    "\n",
    "print(\"Data points collected: \" + str(fleet_size * trips_per_driver * trip_duration_minutes * seconds_per_minute * days_in_week * data_points))"
   ]
  },
  {
   "cell_type": "markdown",
   "metadata": {},
   "source": [
    "# Step 2: Prototype Reading the Data"
   ]
  },
  {
   "cell_type": "code",
   "execution_count": 36,
   "metadata": {},
   "outputs": [
    {
     "name": "stdout",
     "output_type": "stream",
     "text": [
      "Time taken to read data:  0.0009338855743408203\n",
      "Estimated taken to read all data (in seconds):  470678.32946777344\n",
      "Estimated Minutes:  7844.638824462891\n",
      "Estimated Hours:  130.74398040771484\n"
     ]
    }
   ],
   "source": [
    "import time\n",
    "\n",
    "def read_data():\n",
    "    with open(\"data.txt\") as f:\n",
    "        for line in f: \n",
    "            f.readline()\n",
    "\n",
    "start_time = time.time()\n",
    "read_data()\n",
    "end_time = time.time()\n",
    "print(\"Time taken to read data: \", end_time - start_time)\n",
    "expected_total_time = (end_time - start_time) * 2520000000 / 5\n",
    "print(\"Estimated taken to read all data (in seconds): \", expected_total_time)\n",
    "print(\"Estimated Minutes: \", expected_total_time / 60)\n",
    "print(\"Estimated Hours: \", expected_total_time / 3600)\n"
   ]
  },
  {
   "cell_type": "markdown",
   "metadata": {},
   "source": [
    "# Step 3: Estimate Processing Time"
   ]
  },
  {
   "cell_type": "code",
   "execution_count": 37,
   "metadata": {},
   "outputs": [
    {
     "name": "stdout",
     "output_type": "stream",
     "text": [
      "Time taken to calculate trips less than k miles:  0.0008342266082763672\n",
      "Estimated time taken to calculate trips less than k miles:  420450.21057128906\n",
      "Estimated Minutes:  7007.503509521484\n",
      "Estimated Hours:  116.7917251586914\n"
     ]
    }
   ],
   "source": [
    "import json\n",
    "\n",
    "\n",
    "def calculate_trips_less_than_k_miles(k, lat, long):\n",
    "    count = 0\n",
    "    with open(\"data.txt\") as f:\n",
    "        data = json.load(f)\n",
    "        for entry in data:\n",
    "            latitude = entry[1]\n",
    "            longitude = entry[2]\n",
    "            distance = ((latitude - lat) ** 2 + (longitude - long) ** 2) ** 0.5\n",
    "            if distance <= k:\n",
    "                count += 1\n",
    "    return count\n",
    "\n",
    "\n",
    "start_time = time.time()\n",
    "calculate_trips_less_than_k_miles(50, 37.7749, 122.4194)\n",
    "end_time = time.time()\n",
    "\n",
    "expected_total_time = (end_time - start_time) * 2520000000 / 5\n",
    "\n",
    "\n",
    "print(\"Time taken to calculate trips less than k miles: \", end_time - start_time)\n",
    "print(\"Estimated time taken to calculate trips less than k miles: \", expected_total_time)\n",
    "print(\"Estimated Minutes: \", expected_total_time / 60)\n",
    "print(\"Estimated Hours: \", expected_total_time / 3600)"
   ]
  },
  {
   "cell_type": "markdown",
   "metadata": {},
   "source": [
    "# Step 4: Reflect and Discuss"
   ]
  },
  {
   "cell_type": "markdown",
   "metadata": {},
   "source": [
    "How does the scale of the data impact the time required for reading and processing?\n",
    "\n",
    "- \n",
    "\n",
    "\n",
    "What strategies could you use to handle such large datasets more efficiently?\n",
    "\n",
    "-\n",
    "\n",
    "\n",
    "How could this type of data be useful in real-world applications?\n",
    "\n",
    "-"
   ]
  }
 ],
 "metadata": {
  "kernelspec": {
   "display_name": "Python 3",
   "language": "python",
   "name": "python3"
  },
  "language_info": {
   "codemirror_mode": {
    "name": "ipython",
    "version": 3
   },
   "file_extension": ".py",
   "mimetype": "text/x-python",
   "name": "python",
   "nbconvert_exporter": "python",
   "pygments_lexer": "ipython3",
   "version": "3.11.9"
  }
 },
 "nbformat": 4,
 "nbformat_minor": 2
}
